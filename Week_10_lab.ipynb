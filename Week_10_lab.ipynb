{
  "nbformat": 4,
  "nbformat_minor": 0,
  "metadata": {
    "colab": {
      "provenance": [],
      "authorship_tag": "ABX9TyOotnQVvzPbZaIZ2NcgZ01d",
      "include_colab_link": true
    },
    "kernelspec": {
      "name": "python3",
      "display_name": "Python 3"
    },
    "language_info": {
      "name": "python"
    }
  },
  "cells": [
    {
      "cell_type": "markdown",
      "metadata": {
        "id": "view-in-github",
        "colab_type": "text"
      },
      "source": [
        "<a href=\"https://colab.research.google.com/github/aryalkoshish/big_data/blob/main/Week_10_lab.ipynb\" target=\"_parent\"><img src=\"https://colab.research.google.com/assets/colab-badge.svg\" alt=\"Open In Colab\"/></a>"
      ]
    },
    {
      "cell_type": "markdown",
      "source": [
        "**Part 1: Creating and Manipulating 2D Arrays**"
      ],
      "metadata": {
        "id": "EXymNL6Fy80E"
      }
    },
    {
      "cell_type": "code",
      "source": [
        "import numpy as np\n",
        "\n",
        "# Generate the 2D array with random integers between 1 and 100\n",
        "dataset = np.random.randint(1, 101, size=(10, 10))\n",
        "\n",
        "# Extract the first element (index 0, 0)\n",
        "first_element = dataset[0, 0]\n",
        "\n",
        "# Extract the last element (index 9, 9)\n",
        "last_element = dataset[9, 9]\n",
        "\n",
        "print(\"First Element:\", first_element)\n",
        "print(\"Last Element:\", last_element)\n"
      ],
      "metadata": {
        "id": "xAuqMg6peUH9",
        "colab": {
          "base_uri": "https://localhost:8080/"
        },
        "outputId": "b3ec8d54-de3d-4d79-f9e4-669ca9e1653c"
      },
      "execution_count": 1,
      "outputs": [
        {
          "output_type": "stream",
          "name": "stdout",
          "text": [
            "First Element: 90\n",
            "Last Element: 94\n"
          ]
        }
      ]
    },
    {
      "cell_type": "code",
      "source": [
        "# Iterate over the 2D array\n",
        "for row in dataset:\n",
        "    for element in row:\n",
        "        # Check if the element is divisible by both 2 and 3\n",
        "        if element % 2 == 0 and element % 3 == 0:\n",
        "            print(element)"
      ],
      "metadata": {
        "colab": {
          "base_uri": "https://localhost:8080/"
        },
        "id": "idBDNN48oPGR",
        "outputId": "e78d2df7-684a-412b-e5f3-18c53720be42"
      },
      "execution_count": 2,
      "outputs": [
        {
          "output_type": "stream",
          "name": "stdout",
          "text": [
            "90\n",
            "72\n",
            "78\n",
            "72\n",
            "42\n",
            "6\n",
            "18\n",
            "18\n",
            "12\n",
            "6\n",
            "54\n",
            "84\n",
            "78\n",
            "84\n",
            "66\n"
          ]
        }
      ]
    },
    {
      "cell_type": "code",
      "source": [
        "# Reshape the original 2D array into a 1D array of length 100.\n",
        "# Reshape the 2D array into a 1D array of length 100\n",
        "reshaped_array = dataset.reshape(100)\n",
        "\n",
        "print(reshaped_array)"
      ],
      "metadata": {
        "colab": {
          "base_uri": "https://localhost:8080/"
        },
        "id": "ExaJ3NkfodG9",
        "outputId": "47612434-4ca3-4119-f5cf-927c4d7f6a65"
      },
      "execution_count": 6,
      "outputs": [
        {
          "output_type": "stream",
          "name": "stdout",
          "text": [
            "[ 90  83  63  72  93  44  78  82  40  72  41  22  81   8  94  59  26  87\n",
            "  27  49  86  92  70  42  21  85 100  44  63  76   6   3  17  92 100  13\n",
            "  44  71  79  18  18  45  80  12  74  75   6  47  29   9  29  76  91  54\n",
            "  79  25  43  45  23  61  25  52  63   2  84  41  67  14   9  14  56  31\n",
            "  78   4  84  97  41  50  10  13  94  49  35  59  19  23  19  66  77  27\n",
            "  34  29   3  91  99  55  76  51  40  94]\n"
          ]
        }
      ]
    },
    {
      "cell_type": "markdown",
      "source": [
        "**Part 2: Performing Operations on Arrays**"
      ],
      "metadata": {
        "id": "RgLClwSizWyX"
      }
    },
    {
      "cell_type": "code",
      "source": [
        "# Convert the reshaped 1D array back to a 2D array of shape (10, 10)\n",
        "original_shape_array = reshaped_array.reshape(10, 10)\n",
        "\n",
        "# Element-wise sum of the two arrays\n",
        "sum_result = original_shape_array + dataset\n",
        "\n",
        "# Element-wise difference of the two arrays\n",
        "diff_result = original_shape_array - dataset\n",
        "\n",
        "# Element-wise product of the two arrays\n",
        "prod_result = original_shape_array * dataset\n",
        "\n",
        "print(\"Element-wise Sum:\")\n",
        "print(sum_result)\n",
        "print()\n",
        "\n",
        "print(\"Element-wise Difference:\")\n",
        "print(diff_result)\n",
        "print()\n",
        "\n",
        "print(\"Element-wise Product:\")\n",
        "print(prod_result)\n"
      ],
      "metadata": {
        "colab": {
          "base_uri": "https://localhost:8080/"
        },
        "id": "JO5vBKnmou3P",
        "outputId": "70f618cd-7b80-494e-c8da-e42707718895"
      },
      "execution_count": 9,
      "outputs": [
        {
          "output_type": "stream",
          "name": "stdout",
          "text": [
            "Element-wise Sum:\n",
            "[[180 166 126 144 186  88 156 164  80 144]\n",
            " [ 82  44 162  16 188 118  52 174  54  98]\n",
            " [172 184 140  84  42 170 200  88 126 152]\n",
            " [ 12   6  34 184 200  26  88 142 158  36]\n",
            " [ 36  90 160  24 148 150  12  94  58  18]\n",
            " [ 58 152 182 108 158  50  86  90  46 122]\n",
            " [ 50 104 126   4 168  82 134  28  18  28]\n",
            " [112  62 156   8 168 194  82 100  20  26]\n",
            " [188  98  70 118  38  46  38 132 154  54]\n",
            " [ 68  58   6 182 198 110 152 102  80 188]]\n",
            "\n",
            "Element-wise Difference:\n",
            "[[0 0 0 0 0 0 0 0 0 0]\n",
            " [0 0 0 0 0 0 0 0 0 0]\n",
            " [0 0 0 0 0 0 0 0 0 0]\n",
            " [0 0 0 0 0 0 0 0 0 0]\n",
            " [0 0 0 0 0 0 0 0 0 0]\n",
            " [0 0 0 0 0 0 0 0 0 0]\n",
            " [0 0 0 0 0 0 0 0 0 0]\n",
            " [0 0 0 0 0 0 0 0 0 0]\n",
            " [0 0 0 0 0 0 0 0 0 0]\n",
            " [0 0 0 0 0 0 0 0 0 0]]\n",
            "\n",
            "Element-wise Product:\n",
            "[[ 8100  6889  3969  5184  8649  1936  6084  6724  1600  5184]\n",
            " [ 1681   484  6561    64  8836  3481   676  7569   729  2401]\n",
            " [ 7396  8464  4900  1764   441  7225 10000  1936  3969  5776]\n",
            " [   36     9   289  8464 10000   169  1936  5041  6241   324]\n",
            " [  324  2025  6400   144  5476  5625    36  2209   841    81]\n",
            " [  841  5776  8281  2916  6241   625  1849  2025   529  3721]\n",
            " [  625  2704  3969     4  7056  1681  4489   196    81   196]\n",
            " [ 3136   961  6084    16  7056  9409  1681  2500   100   169]\n",
            " [ 8836  2401  1225  3481   361   529   361  4356  5929   729]\n",
            " [ 1156   841     9  8281  9801  3025  5776  2601  1600  8836]]\n"
          ]
        }
      ]
    },
    {
      "cell_type": "code",
      "source": [
        "\n",
        "\n",
        "# Calculate the mean, median, and standard deviation of the whole array\n",
        "mean_value = np.mean(dataset)\n",
        "median_value = np.median(dataset)\n",
        "std_value = np.std(dataset)\n",
        "\n",
        "# Calculate the minimum and maximum value of the whole array\n",
        "min_value = np.min(dataset)\n",
        "max_value = np.max(dataset)\n",
        "\n",
        "# Calculate the 25th and 75th percentile of the whole array\n",
        "percentile_25 = np.percentile(dataset, 25)\n",
        "percentile_75 = np.percentile(dataset, 75)\n",
        "\n",
        "print(\"Original 2D Array:\")\n",
        "print(dataset)\n",
        "print()\n",
        "\n",
        "print(\"Mean:\", mean_value)\n",
        "print(\"Median:\", median_value)\n",
        "print(\"Standard Deviation:\", std_value)\n",
        "print(\"Minimum Value:\", min_value)\n",
        "print(\"Maximum Value:\", max_value)\n",
        "print(\"25th Percentile:\", percentile_25)\n",
        "print(\"75th Percentile:\", percentile_75)\n"
      ],
      "metadata": {
        "colab": {
          "base_uri": "https://localhost:8080/"
        },
        "id": "huCM4l4zqDFE",
        "outputId": "42bcb0d2-c48e-4352-c22b-3a21c51d38c1"
      },
      "execution_count": 10,
      "outputs": [
        {
          "output_type": "stream",
          "name": "stdout",
          "text": [
            "Original 2D Array:\n",
            "[[ 90  83  63  72  93  44  78  82  40  72]\n",
            " [ 41  22  81   8  94  59  26  87  27  49]\n",
            " [ 86  92  70  42  21  85 100  44  63  76]\n",
            " [  6   3  17  92 100  13  44  71  79  18]\n",
            " [ 18  45  80  12  74  75   6  47  29   9]\n",
            " [ 29  76  91  54  79  25  43  45  23  61]\n",
            " [ 25  52  63   2  84  41  67  14   9  14]\n",
            " [ 56  31  78   4  84  97  41  50  10  13]\n",
            " [ 94  49  35  59  19  23  19  66  77  27]\n",
            " [ 34  29   3  91  99  55  76  51  40  94]]\n",
            "\n",
            "Mean: 51.29\n",
            "Median: 49.5\n",
            "Standard Deviation: 29.381386965220006\n",
            "Minimum Value: 2\n",
            "Maximum Value: 100\n",
            "25th Percentile: 25.0\n",
            "75th Percentile: 78.0\n"
          ]
        }
      ]
    },
    {
      "cell_type": "code",
      "source": [
        "\n",
        "# Find the sum along axis 0 (columns)\n",
        "sum_along_axis_0 = np.sum(dataset, axis=0)\n",
        "\n",
        "# Find the sum along axis 1 (rows)\n",
        "sum_along_axis_1 = np.sum(dataset, axis=1)\n",
        "\n",
        "print(\"Original 2D Array:\")\n",
        "print(dataset)\n",
        "print()\n",
        "\n",
        "print(\"Sum along Axis 0 (Columns):\")\n",
        "print(sum_along_axis_0)\n",
        "print()\n",
        "\n",
        "print(\"Sum along Axis 1 (Rows):\")\n",
        "print(sum_along_axis_1)\n"
      ],
      "metadata": {
        "colab": {
          "base_uri": "https://localhost:8080/"
        },
        "id": "m_8d9ZTdxvHI",
        "outputId": "40246149-7e7b-4820-8b4d-bacb9b8bcb3e"
      },
      "execution_count": 11,
      "outputs": [
        {
          "output_type": "stream",
          "name": "stdout",
          "text": [
            "Original 2D Array:\n",
            "[[ 90  83  63  72  93  44  78  82  40  72]\n",
            " [ 41  22  81   8  94  59  26  87  27  49]\n",
            " [ 86  92  70  42  21  85 100  44  63  76]\n",
            " [  6   3  17  92 100  13  44  71  79  18]\n",
            " [ 18  45  80  12  74  75   6  47  29   9]\n",
            " [ 29  76  91  54  79  25  43  45  23  61]\n",
            " [ 25  52  63   2  84  41  67  14   9  14]\n",
            " [ 56  31  78   4  84  97  41  50  10  13]\n",
            " [ 94  49  35  59  19  23  19  66  77  27]\n",
            " [ 34  29   3  91  99  55  76  51  40  94]]\n",
            "\n",
            "Sum along Axis 0 (Columns):\n",
            "[479 482 581 436 747 517 500 557 397 433]\n",
            "\n",
            "Sum along Axis 1 (Rows):\n",
            "[717 494 679 443 395 526 371 464 468 572]\n"
          ]
        }
      ]
    },
    {
      "cell_type": "markdown",
      "source": [
        "**Part 3: Boolean Indexing, Masking and Broadcasting**"
      ],
      "metadata": {
        "id": "jiuY5Swnzdm0"
      }
    },
    {
      "cell_type": "code",
      "source": [
        "\n",
        "\n",
        "# Create a new boolean array where elements are True if the corresponding element in the original array is even, and False otherwise\n",
        "even_mask = dataset % 2 == 0\n",
        "\n",
        "print(\"Original 2D Array:\")\n",
        "print(dataset)\n",
        "print()\n",
        "\n",
        "print(\"Boolean Array - Even elements:\")\n",
        "print(even_mask)\n"
      ],
      "metadata": {
        "colab": {
          "base_uri": "https://localhost:8080/"
        },
        "id": "9LZ6GIoYx6tK",
        "outputId": "1a2d1690-07a9-42ed-e6f5-e5d1c93ba770"
      },
      "execution_count": 12,
      "outputs": [
        {
          "output_type": "stream",
          "name": "stdout",
          "text": [
            "Original 2D Array:\n",
            "[[ 90  83  63  72  93  44  78  82  40  72]\n",
            " [ 41  22  81   8  94  59  26  87  27  49]\n",
            " [ 86  92  70  42  21  85 100  44  63  76]\n",
            " [  6   3  17  92 100  13  44  71  79  18]\n",
            " [ 18  45  80  12  74  75   6  47  29   9]\n",
            " [ 29  76  91  54  79  25  43  45  23  61]\n",
            " [ 25  52  63   2  84  41  67  14   9  14]\n",
            " [ 56  31  78   4  84  97  41  50  10  13]\n",
            " [ 94  49  35  59  19  23  19  66  77  27]\n",
            " [ 34  29   3  91  99  55  76  51  40  94]]\n",
            "\n",
            "Boolean Array - Even elements:\n",
            "[[ True False False  True False  True  True  True  True  True]\n",
            " [False  True False  True  True False  True False False False]\n",
            " [ True  True  True  True False False  True  True False  True]\n",
            " [ True False False  True  True False  True False False  True]\n",
            " [ True False  True  True  True False  True False False False]\n",
            " [False  True False  True False False False False False False]\n",
            " [False  True False  True  True False False  True False  True]\n",
            " [ True False  True  True  True False False  True  True False]\n",
            " [ True False False False False False False  True False False]\n",
            " [ True False False False False False  True False  True  True]]\n"
          ]
        }
      ]
    },
    {
      "cell_type": "code",
      "source": [
        "\n",
        "\n",
        "# Mask the original array using the boolean array to get a new array containing only the even elements\n",
        "even_elements_array = dataset[even_mask]\n",
        "\n",
        "print(\"Original 2D Array:\")\n",
        "print(dataset)\n",
        "print()\n",
        "\n",
        "print(\"Boolean Array - Even elements:\")\n",
        "print(even_mask)\n",
        "print()\n",
        "\n",
        "print(\"New Array with Even Elements Only:\")\n",
        "print(even_elements_array)\n"
      ],
      "metadata": {
        "colab": {
          "base_uri": "https://localhost:8080/"
        },
        "id": "-06tmqsTyHyX",
        "outputId": "db79be1d-4fdf-4f42-f9c1-1d8a905e54a4"
      },
      "execution_count": 13,
      "outputs": [
        {
          "output_type": "stream",
          "name": "stdout",
          "text": [
            "Original 2D Array:\n",
            "[[ 90  83  63  72  93  44  78  82  40  72]\n",
            " [ 41  22  81   8  94  59  26  87  27  49]\n",
            " [ 86  92  70  42  21  85 100  44  63  76]\n",
            " [  6   3  17  92 100  13  44  71  79  18]\n",
            " [ 18  45  80  12  74  75   6  47  29   9]\n",
            " [ 29  76  91  54  79  25  43  45  23  61]\n",
            " [ 25  52  63   2  84  41  67  14   9  14]\n",
            " [ 56  31  78   4  84  97  41  50  10  13]\n",
            " [ 94  49  35  59  19  23  19  66  77  27]\n",
            " [ 34  29   3  91  99  55  76  51  40  94]]\n",
            "\n",
            "Boolean Array - Even elements:\n",
            "[[ True False False  True False  True  True  True  True  True]\n",
            " [False  True False  True  True False  True False False False]\n",
            " [ True  True  True  True False False  True  True False  True]\n",
            " [ True False False  True  True False  True False False  True]\n",
            " [ True False  True  True  True False  True False False False]\n",
            " [False  True False  True False False False False False False]\n",
            " [False  True False  True  True False False  True False  True]\n",
            " [ True False  True  True  True False False  True  True False]\n",
            " [ True False False False False False False  True False False]\n",
            " [ True False False False False False  True False  True  True]]\n",
            "\n",
            "New Array with Even Elements Only:\n",
            "[ 90  72  44  78  82  40  72  22   8  94  26  86  92  70  42 100  44  76\n",
            "   6  92 100  44  18  18  80  12  74   6  76  54  52   2  84  14  14  56\n",
            "  78   4  84  50  10  94  66  34  76  40  94]\n"
          ]
        }
      ]
    },
    {
      "cell_type": "code",
      "source": [
        "\n",
        "\n",
        "# Generate a 1D array with random integers between 1 and 10\n",
        "random_array = np.random.randint(1, 11, size=(10,))\n",
        "\n",
        "# Add the 1D array to every row of the original 2D array using broadcasting\n",
        "result_array = dataset + random_array[:, np.newaxis]\n",
        "\n",
        "print(\"Original 2D Array:\")\n",
        "print(dataset)\n",
        "print()\n",
        "\n",
        "print(\"Random 1D Array:\")\n",
        "print(random_array)\n",
        "print()\n",
        "\n",
        "print(\"Result Array after Broadcasting:\")\n",
        "print(result_array)\n"
      ],
      "metadata": {
        "colab": {
          "base_uri": "https://localhost:8080/"
        },
        "id": "er4ru8vPyW3S",
        "outputId": "c7834ecd-91f9-47f3-c097-5059ec4f3fcc"
      },
      "execution_count": 15,
      "outputs": [
        {
          "output_type": "stream",
          "name": "stdout",
          "text": [
            "Original 2D Array:\n",
            "[[ 90  83  63  72  93  44  78  82  40  72]\n",
            " [ 41  22  81   8  94  59  26  87  27  49]\n",
            " [ 86  92  70  42  21  85 100  44  63  76]\n",
            " [  6   3  17  92 100  13  44  71  79  18]\n",
            " [ 18  45  80  12  74  75   6  47  29   9]\n",
            " [ 29  76  91  54  79  25  43  45  23  61]\n",
            " [ 25  52  63   2  84  41  67  14   9  14]\n",
            " [ 56  31  78   4  84  97  41  50  10  13]\n",
            " [ 94  49  35  59  19  23  19  66  77  27]\n",
            " [ 34  29   3  91  99  55  76  51  40  94]]\n",
            "\n",
            "Random 1D Array:\n",
            "[ 8  5  5  5 10 10  3  4  8  8]\n",
            "\n",
            "Result Array after Broadcasting:\n",
            "[[ 98  91  71  80 101  52  86  90  48  80]\n",
            " [ 46  27  86  13  99  64  31  92  32  54]\n",
            " [ 91  97  75  47  26  90 105  49  68  81]\n",
            " [ 11   8  22  97 105  18  49  76  84  23]\n",
            " [ 28  55  90  22  84  85  16  57  39  19]\n",
            " [ 39  86 101  64  89  35  53  55  33  71]\n",
            " [ 28  55  66   5  87  44  70  17  12  17]\n",
            " [ 60  35  82   8  88 101  45  54  14  17]\n",
            " [102  57  43  67  27  31  27  74  85  35]\n",
            " [ 42  37  11  99 107  63  84  59  48 102]]\n"
          ]
        }
      ]
    },
    {
      "cell_type": "code",
      "source": [],
      "metadata": {
        "id": "8APFu-mUymDT"
      },
      "execution_count": null,
      "outputs": []
    }
  ]
}